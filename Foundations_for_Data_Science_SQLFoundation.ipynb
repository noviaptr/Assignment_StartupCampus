{
  "nbformat": 4,
  "nbformat_minor": 0,
  "metadata": {
    "colab": {
      "provenance": [],
      "include_colab_link": true
    },
    "kernelspec": {
      "name": "python3",
      "display_name": "Python 3"
    },
    "language_info": {
      "name": "python"
    }
  },
  "cells": [
    {
      "cell_type": "markdown",
      "metadata": {
        "id": "view-in-github",
        "colab_type": "text"
      },
      "source": [
        "<a href=\"https://colab.research.google.com/github/noviaptr/Assignment_StartupCampus/blob/main/Foundations_for_Data_Science_SQLFoundation.ipynb\" target=\"_parent\"><img src=\"https://colab.research.google.com/assets/colab-badge.svg\" alt=\"Open In Colab\"/></a>"
      ]
    },
    {
      "cell_type": "markdown",
      "source": [
        "# ASSIGNMENT 1 - SQL FOUNDATION\n"
      ],
      "metadata": {
        "id": "j4t2UeHe71qs"
      }
    },
    {
      "cell_type": "markdown",
      "source": [
        "In this task, you've to be able to use Google Bigquery and find 5-10 interesting information from the look e-commerce dataset"
      ],
      "metadata": {
        "id": "wMab1XVYe0qW"
      }
    },
    {
      "cell_type": "markdown",
      "source": [
        "LINK : https://console.cloud.google.com/bigquery?sq=1066388567222:45169c28b4844562a27d5b7fab5afb63&project=sublime-delight-397312&ws=!1m4!1m3!8m2!1s1066388567222!2s45169c28b4844562a27d5b7fab5afb63"
      ],
      "metadata": {
        "id": "GSdojF9ADVx7"
      }
    }
  ]
}